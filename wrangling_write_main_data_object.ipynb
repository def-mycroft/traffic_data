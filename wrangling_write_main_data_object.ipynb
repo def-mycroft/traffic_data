{
 "cells": [
  {
   "cell_type": "code",
   "execution_count": 1,
   "metadata": {
    "collapsed": true
   },
   "outputs": [],
   "source": [
    "import pandas as pd\n",
    "import numpy as np\n",
    "import pickle_funcs as pk\n",
    "from datetime import datetime as dt"
   ]
  },
  {
   "cell_type": "markdown",
   "metadata": {},
   "source": [
    "# Running the Data Query"
   ]
  },
  {
   "cell_type": "markdown",
   "metadata": {},
   "source": [
    "I'm getting this data from the [NHTSA](https://www-fars.nhtsa.dot.gov/QueryTool/QuerySection/SelectYear.aspx)\n",
    "\n",
    "I could just do a massive data dump, but I'm not sure this makes sense. It seems better to build on columns as needed. \n",
    "\n",
    "Apparently it isn't possible to do multiyear queries? This makes time series annoying but that isn't too bad (are time series really central to this sort of analysis?)\n",
    "\n",
    "I realized that the case numbers are not unique, which means that it would be hard to append in new columns. May be able to match the case number, state number, and some other identifier if needing to append a new column, but I don't think I'm going to do this at the moment. \n",
    "\n",
    "So I can just run another query if I want to add columns.\n",
    "\n",
    "Process for pulling more data:\n",
    "\n",
    "* Select a year from the dropdown in the above link\n",
    "* Option 1 in the second screen probably makes the most sense \n",
    "* Select desired fields from either table \n",
    "* Select \"Case Listing\"\n",
    "* Make sure that Case Number and State are selected for the identifier fields\n",
    "* Select output stats\n",
    "* Name the export\n",
    "* Preview data\n",
    "* Export via txt (gets a tab seperated value)  \n",
    "\n"
   ]
  },
  {
   "cell_type": "markdown",
   "metadata": {},
   "source": [
    "# Creating a DataFrame"
   ]
  },
  {
   "cell_type": "code",
   "execution_count": 3,
   "metadata": {
    "collapsed": false
   },
   "outputs": [
    {
     "data": {
      "text/html": [
       "<div>\n",
       "<table border=\"1\" class=\"dataframe\">\n",
       "  <thead>\n",
       "    <tr style=\"text-align: right;\">\n",
       "      <th></th>\n",
       "      <th>statenum</th>\n",
       "      <th>casenum</th>\n",
       "      <th>accdate</th>\n",
       "      <th>acctime</th>\n",
       "      <th>speeding</th>\n",
       "      <th>Unnamed: 6</th>\n",
       "    </tr>\n",
       "    <tr>\n",
       "      <th>Obs.</th>\n",
       "      <th></th>\n",
       "      <th></th>\n",
       "      <th></th>\n",
       "      <th></th>\n",
       "      <th></th>\n",
       "      <th></th>\n",
       "    </tr>\n",
       "  </thead>\n",
       "  <tbody>\n",
       "    <tr>\n",
       "      <th>1</th>\n",
       "      <td>9</td>\n",
       "      <td>108</td>\n",
       "      <td>09082015</td>\n",
       "      <td>0437</td>\n",
       "      <td>0</td>\n",
       "      <td>NaN</td>\n",
       "    </tr>\n",
       "    <tr>\n",
       "      <th>2</th>\n",
       "      <td>13</td>\n",
       "      <td>86</td>\n",
       "      <td>01272015</td>\n",
       "      <td>1405</td>\n",
       "      <td>0</td>\n",
       "      <td>NaN</td>\n",
       "    </tr>\n",
       "    <tr>\n",
       "      <th>3</th>\n",
       "      <td>45</td>\n",
       "      <td>898</td>\n",
       "      <td>12262015</td>\n",
       "      <td>0115</td>\n",
       "      <td>0</td>\n",
       "      <td>NaN</td>\n",
       "    </tr>\n",
       "    <tr>\n",
       "      <th>4</th>\n",
       "      <td>6</td>\n",
       "      <td>2100</td>\n",
       "      <td>11052015</td>\n",
       "      <td>1110</td>\n",
       "      <td>1</td>\n",
       "      <td>NaN</td>\n",
       "    </tr>\n",
       "    <tr>\n",
       "      <th>5</th>\n",
       "      <td>23</td>\n",
       "      <td>41</td>\n",
       "      <td>06072015</td>\n",
       "      <td>1354</td>\n",
       "      <td>0</td>\n",
       "      <td>NaN</td>\n",
       "    </tr>\n",
       "  </tbody>\n",
       "</table>\n",
       "</div>"
      ],
      "text/plain": [
       "      statenum  casenum   accdate acctime  speeding  Unnamed: 6\n",
       "Obs.                                                           \n",
       "1            9      108  09082015    0437         0         NaN\n",
       "2           13       86  01272015    1405         0         NaN\n",
       "3           45      898  12262015    0115         0         NaN\n",
       "4            6     2100  11052015    1110         1         NaN\n",
       "5           23       41  06072015    1354         0         NaN"
      ]
     },
     "execution_count": 3,
     "metadata": {},
     "output_type": "execute_result"
    }
   ],
   "source": [
    "# Read table with date and time columns as a string and index col set to first col\n",
    "data = pd.read_table('data.txt', dtype={'accdate':str, 'acctime':str}, index_col=0)\n",
    "data.head()"
   ]
  },
  {
   "cell_type": "code",
   "execution_count": 4,
   "metadata": {
    "collapsed": false
   },
   "outputs": [],
   "source": [
    "del data['Unnamed: 6'] # there are tabs at the end of these files, just have to delete a column"
   ]
  },
  {
   "cell_type": "code",
   "execution_count": 5,
   "metadata": {
    "collapsed": false
   },
   "outputs": [
    {
     "data": {
      "text/html": [
       "<div>\n",
       "<table border=\"1\" class=\"dataframe\">\n",
       "  <thead>\n",
       "    <tr style=\"text-align: right;\">\n",
       "      <th></th>\n",
       "      <th>statenum</th>\n",
       "      <th>casenum</th>\n",
       "      <th>accdate</th>\n",
       "      <th>acctime</th>\n",
       "      <th>speeding</th>\n",
       "    </tr>\n",
       "    <tr>\n",
       "      <th>Obs.</th>\n",
       "      <th></th>\n",
       "      <th></th>\n",
       "      <th></th>\n",
       "      <th></th>\n",
       "      <th></th>\n",
       "    </tr>\n",
       "  </thead>\n",
       "  <tbody>\n",
       "    <tr>\n",
       "      <th>1</th>\n",
       "      <td>9</td>\n",
       "      <td>108</td>\n",
       "      <td>09082015</td>\n",
       "      <td>0437</td>\n",
       "      <td>0</td>\n",
       "    </tr>\n",
       "    <tr>\n",
       "      <th>2</th>\n",
       "      <td>13</td>\n",
       "      <td>86</td>\n",
       "      <td>01272015</td>\n",
       "      <td>1405</td>\n",
       "      <td>0</td>\n",
       "    </tr>\n",
       "    <tr>\n",
       "      <th>3</th>\n",
       "      <td>45</td>\n",
       "      <td>898</td>\n",
       "      <td>12262015</td>\n",
       "      <td>0115</td>\n",
       "      <td>0</td>\n",
       "    </tr>\n",
       "    <tr>\n",
       "      <th>4</th>\n",
       "      <td>6</td>\n",
       "      <td>2100</td>\n",
       "      <td>11052015</td>\n",
       "      <td>1110</td>\n",
       "      <td>1</td>\n",
       "    </tr>\n",
       "    <tr>\n",
       "      <th>5</th>\n",
       "      <td>23</td>\n",
       "      <td>41</td>\n",
       "      <td>06072015</td>\n",
       "      <td>1354</td>\n",
       "      <td>0</td>\n",
       "    </tr>\n",
       "  </tbody>\n",
       "</table>\n",
       "</div>"
      ],
      "text/plain": [
       "      statenum  casenum   accdate acctime  speeding\n",
       "Obs.                                               \n",
       "1            9      108  09082015    0437         0\n",
       "2           13       86  01272015    1405         0\n",
       "3           45      898  12262015    0115         0\n",
       "4            6     2100  11052015    1110         1\n",
       "5           23       41  06072015    1354         0"
      ]
     },
     "execution_count": 5,
     "metadata": {},
     "output_type": "execute_result"
    }
   ],
   "source": [
    "data.head()"
   ]
  },
  {
   "cell_type": "code",
   "execution_count": 6,
   "metadata": {
    "collapsed": false
   },
   "outputs": [
    {
     "data": {
      "text/plain": [
       "pandas.core.frame.DataFrame"
      ]
     },
     "execution_count": 6,
     "metadata": {},
     "output_type": "execute_result"
    }
   ],
   "source": [
    "type(data)"
   ]
  },
  {
   "cell_type": "code",
   "execution_count": 17,
   "metadata": {
    "collapsed": false
   },
   "outputs": [
    {
     "data": {
      "text/plain": [
       "statenum     int64\n",
       "casenum      int64\n",
       "accdate     object\n",
       "acctime     object\n",
       "speeding     int64\n",
       "dtype: object"
      ]
     },
     "execution_count": 17,
     "metadata": {},
     "output_type": "execute_result"
    }
   ],
   "source": [
    "data.dtypes"
   ]
  },
  {
   "cell_type": "markdown",
   "metadata": {},
   "source": [
    "# Convert Dates to Python Datetime Object"
   ]
  },
  {
   "cell_type": "code",
   "execution_count": 8,
   "metadata": {
    "collapsed": false
   },
   "outputs": [
    {
     "data": {
      "text/plain": [
       "datetime.datetime(2015, 9, 2, 16, 17)"
      ]
     },
     "execution_count": 8,
     "metadata": {},
     "output_type": "execute_result"
    }
   ],
   "source": [
    "\n",
    "sample_date = '09022015'\n",
    "sample_time = '1617'\n",
    "\n",
    "def convert_date(date_string, time_string):\n",
    "    \"\"\"Takes time and date as string and converts to datetime object\"\"\"\n",
    "    string = '%s : %s' % (date_string, time_string)\n",
    "    return dt.strptime(string, '%m%d%Y : %H%M')\n",
    "    \n",
    "    \n",
    "convert_date(sample_date, sample_time)"
   ]
  },
  {
   "cell_type": "code",
   "execution_count": 9,
   "metadata": {
    "collapsed": false
   },
   "outputs": [
    {
     "data": {
      "text/html": [
       "<div>\n",
       "<table border=\"1\" class=\"dataframe\">\n",
       "  <thead>\n",
       "    <tr style=\"text-align: right;\">\n",
       "      <th></th>\n",
       "      <th>statenum</th>\n",
       "      <th>casenum</th>\n",
       "      <th>accdate</th>\n",
       "      <th>acctime</th>\n",
       "      <th>speeding</th>\n",
       "    </tr>\n",
       "    <tr>\n",
       "      <th>Obs.</th>\n",
       "      <th></th>\n",
       "      <th></th>\n",
       "      <th></th>\n",
       "      <th></th>\n",
       "      <th></th>\n",
       "    </tr>\n",
       "  </thead>\n",
       "  <tbody>\n",
       "    <tr>\n",
       "      <th>1</th>\n",
       "      <td>9</td>\n",
       "      <td>108</td>\n",
       "      <td>09082015</td>\n",
       "      <td>0437</td>\n",
       "      <td>0</td>\n",
       "    </tr>\n",
       "    <tr>\n",
       "      <th>2</th>\n",
       "      <td>13</td>\n",
       "      <td>86</td>\n",
       "      <td>01272015</td>\n",
       "      <td>1405</td>\n",
       "      <td>0</td>\n",
       "    </tr>\n",
       "    <tr>\n",
       "      <th>3</th>\n",
       "      <td>45</td>\n",
       "      <td>898</td>\n",
       "      <td>12262015</td>\n",
       "      <td>0115</td>\n",
       "      <td>0</td>\n",
       "    </tr>\n",
       "    <tr>\n",
       "      <th>4</th>\n",
       "      <td>6</td>\n",
       "      <td>2100</td>\n",
       "      <td>11052015</td>\n",
       "      <td>1110</td>\n",
       "      <td>1</td>\n",
       "    </tr>\n",
       "    <tr>\n",
       "      <th>5</th>\n",
       "      <td>23</td>\n",
       "      <td>41</td>\n",
       "      <td>06072015</td>\n",
       "      <td>1354</td>\n",
       "      <td>0</td>\n",
       "    </tr>\n",
       "  </tbody>\n",
       "</table>\n",
       "</div>"
      ],
      "text/plain": [
       "      statenum  casenum   accdate acctime  speeding\n",
       "Obs.                                               \n",
       "1            9      108  09082015    0437         0\n",
       "2           13       86  01272015    1405         0\n",
       "3           45      898  12262015    0115         0\n",
       "4            6     2100  11052015    1110         1\n",
       "5           23       41  06072015    1354         0"
      ]
     },
     "execution_count": 9,
     "metadata": {},
     "output_type": "execute_result"
    }
   ],
   "source": [
    "data.head()"
   ]
  },
  {
   "cell_type": "code",
   "execution_count": 10,
   "metadata": {
    "collapsed": false
   },
   "outputs": [
    {
     "data": {
      "text/plain": [
       "32166"
      ]
     },
     "execution_count": 10,
     "metadata": {},
     "output_type": "execute_result"
    }
   ],
   "source": [
    "len(data.index)"
   ]
  },
  {
   "cell_type": "code",
   "execution_count": 11,
   "metadata": {
    "collapsed": false
   },
   "outputs": [
    {
     "data": {
      "text/plain": [
       "249"
      ]
     },
     "execution_count": 11,
     "metadata": {},
     "output_type": "execute_result"
    }
   ],
   "source": [
    "count = 0\n",
    "for item in data['acctime']:\n",
    "    if item == '9999':\n",
    "        count += 1\n",
    "        \n",
    "count"
   ]
  },
  {
   "cell_type": "code",
   "execution_count": 12,
   "metadata": {
    "collapsed": false
   },
   "outputs": [
    {
     "name": "stdout",
     "output_type": "stream",
     "text": [
      "the new length should be: 31917\n"
     ]
    }
   ],
   "source": [
    "print('the new length should be:', 32166 - 249)"
   ]
  },
  {
   "cell_type": "code",
   "execution_count": 13,
   "metadata": {
    "collapsed": true
   },
   "outputs": [],
   "source": [
    "data = data.drop(data[data.acctime == '9999'].index)"
   ]
  },
  {
   "cell_type": "code",
   "execution_count": 14,
   "metadata": {
    "collapsed": false
   },
   "outputs": [
    {
     "data": {
      "text/plain": [
       "31917"
      ]
     },
     "execution_count": 14,
     "metadata": {},
     "output_type": "execute_result"
    }
   ],
   "source": [
    "len(data.index)"
   ]
  },
  {
   "cell_type": "code",
   "execution_count": 15,
   "metadata": {
    "collapsed": false
   },
   "outputs": [],
   "source": [
    "# less than ten of the time data points have a '99' on the end\n",
    "# these are replaced by setting the hour to '00'\n",
    "for row in range(len(data.index)):\n",
    "    time = data.iloc[row, 3]\n",
    "    if int(time[2]) > 5:\n",
    "        time = time[:2] + '00'\n",
    "        data.iloc[row, 3] = time"
   ]
  },
  {
   "cell_type": "code",
   "execution_count": 16,
   "metadata": {
    "collapsed": false
   },
   "outputs": [],
   "source": [
    "# the dates are all the same length\n",
    "# the times are all the same length\n",
    "\n",
    "# the dates are all the same length\n",
    "# the times are all the same length\n",
    "\n",
    "\n",
    "for row in range(len(data.index)):\n",
    "    date = data.iloc[row, 2]\n",
    "    time = data.iloc[row, 3]\n",
    "\n",
    "    datetime = convert_date(date, time)\n",
    "    data.iloc[row, 2] = datetime\n",
    "\n",
    "\n",
    "\n",
    "# for row in range(len(data.index)):\n",
    "#     date = data.iloc[row, 2]\n",
    "#     time = data.iloc[row, 3]\n",
    "#     try:\n",
    "#         datetime = convert_date(date, time)\n",
    "#         data.iloc[row, 2] = datetime\n",
    "#     except ValueError:\n",
    "#         print(date)\n",
    "#         print(time)\n",
    "\n"
   ]
  },
  {
   "cell_type": "markdown",
   "metadata": {},
   "source": [
    "# Adding a Weekday Record"
   ]
  },
  {
   "cell_type": "code",
   "execution_count": 35,
   "metadata": {
    "collapsed": false
   },
   "outputs": [
    {
     "data": {
      "text/html": [
       "<div>\n",
       "<table border=\"1\" class=\"dataframe\">\n",
       "  <thead>\n",
       "    <tr style=\"text-align: right;\">\n",
       "      <th></th>\n",
       "      <th>statenum</th>\n",
       "      <th>casenum</th>\n",
       "      <th>accdate</th>\n",
       "      <th>acctime</th>\n",
       "      <th>speeding</th>\n",
       "      <th>weekday</th>\n",
       "    </tr>\n",
       "    <tr>\n",
       "      <th>Obs.</th>\n",
       "      <th></th>\n",
       "      <th></th>\n",
       "      <th></th>\n",
       "      <th></th>\n",
       "      <th></th>\n",
       "      <th></th>\n",
       "    </tr>\n",
       "  </thead>\n",
       "  <tbody>\n",
       "    <tr>\n",
       "      <th>1</th>\n",
       "      <td>9</td>\n",
       "      <td>108</td>\n",
       "      <td>2015-09-08 04:37:00</td>\n",
       "      <td>0437</td>\n",
       "      <td>0</td>\n",
       "      <td>1</td>\n",
       "    </tr>\n",
       "    <tr>\n",
       "      <th>2</th>\n",
       "      <td>13</td>\n",
       "      <td>86</td>\n",
       "      <td>2015-01-27 14:05:00</td>\n",
       "      <td>1405</td>\n",
       "      <td>0</td>\n",
       "      <td>1</td>\n",
       "    </tr>\n",
       "    <tr>\n",
       "      <th>3</th>\n",
       "      <td>45</td>\n",
       "      <td>898</td>\n",
       "      <td>2015-12-26 01:15:00</td>\n",
       "      <td>0115</td>\n",
       "      <td>0</td>\n",
       "      <td>5</td>\n",
       "    </tr>\n",
       "    <tr>\n",
       "      <th>4</th>\n",
       "      <td>6</td>\n",
       "      <td>2100</td>\n",
       "      <td>2015-11-05 11:10:00</td>\n",
       "      <td>1110</td>\n",
       "      <td>1</td>\n",
       "      <td>3</td>\n",
       "    </tr>\n",
       "    <tr>\n",
       "      <th>5</th>\n",
       "      <td>23</td>\n",
       "      <td>41</td>\n",
       "      <td>2015-06-07 13:54:00</td>\n",
       "      <td>1354</td>\n",
       "      <td>0</td>\n",
       "      <td>6</td>\n",
       "    </tr>\n",
       "  </tbody>\n",
       "</table>\n",
       "</div>"
      ],
      "text/plain": [
       "      statenum  casenum              accdate acctime  speeding weekday\n",
       "Obs.                                                                  \n",
       "1            9      108  2015-09-08 04:37:00    0437         0       1\n",
       "2           13       86  2015-01-27 14:05:00    1405         0       1\n",
       "3           45      898  2015-12-26 01:15:00    0115         0       5\n",
       "4            6     2100  2015-11-05 11:10:00    1110         1       3\n",
       "5           23       41  2015-06-07 13:54:00    1354         0       6"
      ]
     },
     "execution_count": 35,
     "metadata": {},
     "output_type": "execute_result"
    }
   ],
   "source": [
    "data.head()"
   ]
  },
  {
   "cell_type": "code",
   "execution_count": 21,
   "metadata": {
    "collapsed": false
   },
   "outputs": [],
   "source": [
    "empty = []\n",
    "\n",
    "for i in range(len(data.index)):\n",
    "    empty.append('NA')\n",
    "data['weekday'] = empty"
   ]
  },
  {
   "cell_type": "code",
   "execution_count": 25,
   "metadata": {
    "collapsed": true
   },
   "outputs": [],
   "source": [
    "\n",
    "for row in range(len(data.index)):\n",
    "    weekday = data.iloc[row, 2].weekday()\n",
    "    data.iloc[row, 5] = weekday\n"
   ]
  },
  {
   "cell_type": "code",
   "execution_count": 31,
   "metadata": {
    "collapsed": false
   },
   "outputs": [
    {
     "data": {
      "text/plain": [
       "statenum     int64\n",
       "casenum      int64\n",
       "accdate     object\n",
       "acctime     object\n",
       "speeding     int64\n",
       "weekday     object\n",
       "dtype: object"
      ]
     },
     "execution_count": 31,
     "metadata": {},
     "output_type": "execute_result"
    }
   ],
   "source": [
    "data.dtypes"
   ]
  },
  {
   "cell_type": "markdown",
   "metadata": {},
   "source": [
    "# Issue with too Many Records (don't run)"
   ]
  },
  {
   "cell_type": "markdown",
   "metadata": {},
   "source": [
    "For some reason there are about 54K records, but this isn't correct the way that I understand. According to other sources, there were only about 30K fatalities in the US in 2015. \n",
    "\n",
    "I think the issue is that I was accessing data from two tables in the query (there is a 'person' table and an 'accident' table). If I want to incorporate data from the persons table, I would need to figure out how to marry these two tables. Could possibly look for data where the statenum, casenum, accdate and acctime are equal...."
   ]
  },
  {
   "cell_type": "code",
   "execution_count": 46,
   "metadata": {
    "collapsed": false
   },
   "outputs": [
    {
     "data": {
      "text/html": [
       "<div>\n",
       "<table border=\"1\" class=\"dataframe\">\n",
       "  <thead>\n",
       "    <tr style=\"text-align: right;\">\n",
       "      <th></th>\n",
       "      <th>statenum</th>\n",
       "      <th>casenum</th>\n",
       "      <th>accdate</th>\n",
       "      <th>acctime</th>\n",
       "      <th>speeding</th>\n",
       "      <th>alcres</th>\n",
       "      <th>drugres1</th>\n",
       "    </tr>\n",
       "    <tr>\n",
       "      <th>Obs.</th>\n",
       "      <th></th>\n",
       "      <th></th>\n",
       "      <th></th>\n",
       "      <th></th>\n",
       "      <th></th>\n",
       "      <th></th>\n",
       "      <th></th>\n",
       "    </tr>\n",
       "  </thead>\n",
       "  <tbody>\n",
       "    <tr>\n",
       "      <th>1</th>\n",
       "      <td>6</td>\n",
       "      <td>1397</td>\n",
       "      <td>2015-09-02 16:17:00</td>\n",
       "      <td>1617</td>\n",
       "      <td>1</td>\n",
       "      <td>996</td>\n",
       "      <td>0</td>\n",
       "    </tr>\n",
       "    <tr>\n",
       "      <th>2</th>\n",
       "      <td>6</td>\n",
       "      <td>1734</td>\n",
       "      <td>2015-08-01 08:52:00</td>\n",
       "      <td>0852</td>\n",
       "      <td>0</td>\n",
       "      <td>996</td>\n",
       "      <td>0</td>\n",
       "    </tr>\n",
       "    <tr>\n",
       "      <th>3</th>\n",
       "      <td>27</td>\n",
       "      <td>263</td>\n",
       "      <td>2015-09-21 12:25:00</td>\n",
       "      <td>1225</td>\n",
       "      <td>0</td>\n",
       "      <td>996</td>\n",
       "      <td>0</td>\n",
       "    </tr>\n",
       "    <tr>\n",
       "      <th>4</th>\n",
       "      <td>30</td>\n",
       "      <td>113</td>\n",
       "      <td>2015-08-10 00:21:00</td>\n",
       "      <td>0021</td>\n",
       "      <td>1</td>\n",
       "      <td>262</td>\n",
       "      <td>605</td>\n",
       "    </tr>\n",
       "    <tr>\n",
       "      <th>5</th>\n",
       "      <td>37</td>\n",
       "      <td>47</td>\n",
       "      <td>2015-01-02 19:05:00</td>\n",
       "      <td>1905</td>\n",
       "      <td>0</td>\n",
       "      <td>0</td>\n",
       "      <td>0</td>\n",
       "    </tr>\n",
       "  </tbody>\n",
       "</table>\n",
       "</div>"
      ],
      "text/plain": [
       "      statenum  casenum              accdate acctime  speeding alcres drugres1\n",
       "Obs.                                                                          \n",
       "1            6     1397  2015-09-02 16:17:00    1617         1    996        0\n",
       "2            6     1734  2015-08-01 08:52:00    0852         0    996        0\n",
       "3           27      263  2015-09-21 12:25:00    1225         0    996        0\n",
       "4           30      113  2015-08-10 00:21:00    0021         1    262      605\n",
       "5           37       47  2015-01-02 19:05:00    1905         0      0        0"
      ]
     },
     "execution_count": 46,
     "metadata": {},
     "output_type": "execute_result"
    }
   ],
   "source": [
    "data.head() # if this table has drugres1 in it, it is from the old dataset "
   ]
  },
  {
   "cell_type": "code",
   "execution_count": 47,
   "metadata": {
    "collapsed": false
   },
   "outputs": [
    {
     "data": {
      "text/plain": [
       "54228"
      ]
     },
     "execution_count": 47,
     "metadata": {},
     "output_type": "execute_result"
    }
   ],
   "source": [
    "len(data['casenum'])"
   ]
  },
  {
   "cell_type": "code",
   "execution_count": 49,
   "metadata": {
    "collapsed": false
   },
   "outputs": [
    {
     "data": {
      "text/plain": [
       "3191"
      ]
     },
     "execution_count": 49,
     "metadata": {},
     "output_type": "execute_result"
    }
   ],
   "source": [
    "len(data['casenum'].unique())"
   ]
  },
  {
   "cell_type": "markdown",
   "metadata": {},
   "source": [
    "# Write Object to File"
   ]
  },
  {
   "cell_type": "code",
   "execution_count": 32,
   "metadata": {
    "collapsed": false
   },
   "outputs": [],
   "source": [
    "# Write this to a pickle file, creating the main data file. \n",
    "# Can't test to see if the dataframes are exactly the same because of issues with Pandas\n",
    "\n",
    "pk.pickle_object(data, 'data', test=False)"
   ]
  },
  {
   "cell_type": "code",
   "execution_count": 33,
   "metadata": {
    "collapsed": false
   },
   "outputs": [],
   "source": [
    "# Load the pickled dataframe to test\n",
    "new_data = pk.unpickle_object('data')"
   ]
  },
  {
   "cell_type": "code",
   "execution_count": 34,
   "metadata": {
    "collapsed": false
   },
   "outputs": [
    {
     "data": {
      "text/plain": [
       "0"
      ]
     },
     "execution_count": 34,
     "metadata": {},
     "output_type": "execute_result"
    }
   ],
   "source": [
    "# vector operation on dataframes, return array with True in cell if don't match\n",
    "# This cell should return a zero\n",
    "test = new_data.values != data.values\n",
    "test.sum()"
   ]
  }
 ],
 "metadata": {
  "anaconda-cloud": {},
  "kernelspec": {
   "display_name": "Python [conda root]",
   "language": "python",
   "name": "conda-root-py"
  },
  "language_info": {
   "codemirror_mode": {
    "name": "ipython",
    "version": 3
   },
   "file_extension": ".py",
   "mimetype": "text/x-python",
   "name": "python",
   "nbconvert_exporter": "python",
   "pygments_lexer": "ipython3",
   "version": "3.5.2"
  }
 },
 "nbformat": 4,
 "nbformat_minor": 1
}
