{
 "cells": [
  {
   "cell_type": "code",
   "execution_count": 24,
   "metadata": {
    "collapsed": true
   },
   "outputs": [],
   "source": [
    "import pandas as pd\n",
    "import numpy as np\n",
    "import pickle_funcs as pk\n",
    "from datetime import datetime as dt"
   ]
  },
  {
   "cell_type": "markdown",
   "metadata": {},
   "source": [
    "# Running the Data Query"
   ]
  },
  {
   "cell_type": "markdown",
   "metadata": {},
   "source": [
    "I'm getting this data from the [NHTSA](https://www-fars.nhtsa.dot.gov/QueryTool/QuerySection/SelectYear.aspx)\n",
    "\n",
    "I could just do a massive data dump, but I'm not sure this makes sense. It seems better to build on columns as needed. \n",
    "\n",
    "Apparently it isn't possible to do multiyear queries? This makes time series annoying but that isn't too bad (are time series really central to this sort of analysis?)\n",
    "\n",
    "I realized that the case numbers are not unique, which means that it would be hard to append in new columns. May be able to match the case number, state number, and some other identifier if needing to append a new column, but I don't think I'm going to do this at the moment. \n",
    "\n",
    "So I can just run another query if I want to add columns.\n",
    "\n",
    "Process for pulling more data:\n",
    "\n",
    "* Select a year from the dropdown in the above link\n",
    "* Option 1 in the second screen probably makes the most sense \n",
    "* Select desired fields from either table \n",
    "* Select \"Case Listing\"\n",
    "* Make sure that Case Number and State are selected for the identifier fields\n",
    "* Select output stats\n",
    "* Name the export\n",
    "* Preview data\n",
    "* Export via txt (gets a tab seperated value)  \n",
    "\n"
   ]
  },
  {
   "cell_type": "markdown",
   "metadata": {},
   "source": [
    "# Creating a DataFrame"
   ]
  },
  {
   "cell_type": "code",
   "execution_count": 25,
   "metadata": {
    "collapsed": false
   },
   "outputs": [],
   "source": [
    "# Read table with date and time columns as a string and index col set to first col\n",
    "data = pd.read_table('data.txt', dtype={'accdate':str, 'acctime':str}, index_col=0)"
   ]
  },
  {
   "cell_type": "code",
   "execution_count": 26,
   "metadata": {
    "collapsed": false
   },
   "outputs": [
    {
     "name": "stderr",
     "output_type": "stream",
     "text": [
      "/home/dasenbrj/anaconda3/lib/python3.5/site-packages/numpy/lib/function_base.py:3834: RuntimeWarning: Invalid value encountered in percentile\n",
      "  RuntimeWarning)\n"
     ]
    },
    {
     "data": {
      "text/html": [
       "<div>\n",
       "<table border=\"1\" class=\"dataframe\">\n",
       "  <thead>\n",
       "    <tr style=\"text-align: right;\">\n",
       "      <th></th>\n",
       "      <th>statenum</th>\n",
       "      <th>casenum</th>\n",
       "      <th>speeding</th>\n",
       "      <th>Unnamed: 8</th>\n",
       "    </tr>\n",
       "  </thead>\n",
       "  <tbody>\n",
       "    <tr>\n",
       "      <th>count</th>\n",
       "      <td>54559.000000</td>\n",
       "      <td>54559.000000</td>\n",
       "      <td>54559.000000</td>\n",
       "      <td>0.0</td>\n",
       "    </tr>\n",
       "    <tr>\n",
       "      <th>mean</th>\n",
       "      <td>27.251636</td>\n",
       "      <td>672.195403</td>\n",
       "      <td>0.258472</td>\n",
       "      <td>NaN</td>\n",
       "    </tr>\n",
       "    <tr>\n",
       "      <th>std</th>\n",
       "      <td>16.144258</td>\n",
       "      <td>708.956005</td>\n",
       "      <td>0.437799</td>\n",
       "      <td>NaN</td>\n",
       "    </tr>\n",
       "    <tr>\n",
       "      <th>min</th>\n",
       "      <td>1.000000</td>\n",
       "      <td>1.000000</td>\n",
       "      <td>0.000000</td>\n",
       "      <td>NaN</td>\n",
       "    </tr>\n",
       "    <tr>\n",
       "      <th>25%</th>\n",
       "      <td>12.000000</td>\n",
       "      <td>179.000000</td>\n",
       "      <td>0.000000</td>\n",
       "      <td>NaN</td>\n",
       "    </tr>\n",
       "    <tr>\n",
       "      <th>50%</th>\n",
       "      <td>27.000000</td>\n",
       "      <td>427.000000</td>\n",
       "      <td>0.000000</td>\n",
       "      <td>NaN</td>\n",
       "    </tr>\n",
       "    <tr>\n",
       "      <th>75%</th>\n",
       "      <td>42.000000</td>\n",
       "      <td>851.000000</td>\n",
       "      <td>1.000000</td>\n",
       "      <td>NaN</td>\n",
       "    </tr>\n",
       "    <tr>\n",
       "      <th>max</th>\n",
       "      <td>56.000000</td>\n",
       "      <td>3195.000000</td>\n",
       "      <td>1.000000</td>\n",
       "      <td>NaN</td>\n",
       "    </tr>\n",
       "  </tbody>\n",
       "</table>\n",
       "</div>"
      ],
      "text/plain": [
       "           statenum       casenum      speeding  Unnamed: 8\n",
       "count  54559.000000  54559.000000  54559.000000         0.0\n",
       "mean      27.251636    672.195403      0.258472         NaN\n",
       "std       16.144258    708.956005      0.437799         NaN\n",
       "min        1.000000      1.000000      0.000000         NaN\n",
       "25%       12.000000    179.000000      0.000000         NaN\n",
       "50%       27.000000    427.000000      0.000000         NaN\n",
       "75%       42.000000    851.000000      1.000000         NaN\n",
       "max       56.000000   3195.000000      1.000000         NaN"
      ]
     },
     "execution_count": 26,
     "metadata": {},
     "output_type": "execute_result"
    }
   ],
   "source": [
    "data.describe()"
   ]
  },
  {
   "cell_type": "code",
   "execution_count": 27,
   "metadata": {
    "collapsed": false
   },
   "outputs": [],
   "source": [
    "del data['Unnamed: 8'] # there are tabs at the end of these files, just have to delete a column"
   ]
  },
  {
   "cell_type": "code",
   "execution_count": 28,
   "metadata": {
    "collapsed": false
   },
   "outputs": [
    {
     "data": {
      "text/html": [
       "<div>\n",
       "<table border=\"1\" class=\"dataframe\">\n",
       "  <thead>\n",
       "    <tr style=\"text-align: right;\">\n",
       "      <th></th>\n",
       "      <th>statenum</th>\n",
       "      <th>casenum</th>\n",
       "      <th>accdate</th>\n",
       "      <th>acctime</th>\n",
       "      <th>speeding</th>\n",
       "      <th>alcres</th>\n",
       "      <th>drugres1</th>\n",
       "    </tr>\n",
       "    <tr>\n",
       "      <th>Obs.</th>\n",
       "      <th></th>\n",
       "      <th></th>\n",
       "      <th></th>\n",
       "      <th></th>\n",
       "      <th></th>\n",
       "      <th></th>\n",
       "      <th></th>\n",
       "    </tr>\n",
       "  </thead>\n",
       "  <tbody>\n",
       "    <tr>\n",
       "      <th>1</th>\n",
       "      <td>6</td>\n",
       "      <td>1397</td>\n",
       "      <td>09022015</td>\n",
       "      <td>1617</td>\n",
       "      <td>1</td>\n",
       "      <td>996</td>\n",
       "      <td>0</td>\n",
       "    </tr>\n",
       "    <tr>\n",
       "      <th>2</th>\n",
       "      <td>6</td>\n",
       "      <td>1734</td>\n",
       "      <td>08012015</td>\n",
       "      <td>0852</td>\n",
       "      <td>0</td>\n",
       "      <td>996</td>\n",
       "      <td>0</td>\n",
       "    </tr>\n",
       "    <tr>\n",
       "      <th>3</th>\n",
       "      <td>27</td>\n",
       "      <td>263</td>\n",
       "      <td>09212015</td>\n",
       "      <td>1225</td>\n",
       "      <td>0</td>\n",
       "      <td>996</td>\n",
       "      <td>0</td>\n",
       "    </tr>\n",
       "    <tr>\n",
       "      <th>4</th>\n",
       "      <td>30</td>\n",
       "      <td>113</td>\n",
       "      <td>08102015</td>\n",
       "      <td>0021</td>\n",
       "      <td>1</td>\n",
       "      <td>262</td>\n",
       "      <td>605</td>\n",
       "    </tr>\n",
       "    <tr>\n",
       "      <th>5</th>\n",
       "      <td>37</td>\n",
       "      <td>47</td>\n",
       "      <td>01022015</td>\n",
       "      <td>1905</td>\n",
       "      <td>0</td>\n",
       "      <td>0</td>\n",
       "      <td>0</td>\n",
       "    </tr>\n",
       "  </tbody>\n",
       "</table>\n",
       "</div>"
      ],
      "text/plain": [
       "      statenum  casenum   accdate acctime  speeding alcres drugres1\n",
       "Obs.                                                               \n",
       "1            6     1397  09022015    1617         1    996        0\n",
       "2            6     1734  08012015    0852         0    996        0\n",
       "3           27      263  09212015    1225         0    996        0\n",
       "4           30      113  08102015    0021         1    262      605\n",
       "5           37       47  01022015    1905         0      0        0"
      ]
     },
     "execution_count": 28,
     "metadata": {},
     "output_type": "execute_result"
    }
   ],
   "source": [
    "data.head()"
   ]
  },
  {
   "cell_type": "code",
   "execution_count": 29,
   "metadata": {
    "collapsed": false
   },
   "outputs": [
    {
     "data": {
      "text/plain": [
       "pandas.core.frame.DataFrame"
      ]
     },
     "execution_count": 29,
     "metadata": {},
     "output_type": "execute_result"
    }
   ],
   "source": [
    "type(data)"
   ]
  },
  {
   "cell_type": "code",
   "execution_count": 42,
   "metadata": {
    "collapsed": false
   },
   "outputs": [
    {
     "data": {
      "text/plain": [
       "statenum     int64\n",
       "casenum      int64\n",
       "accdate     object\n",
       "acctime     object\n",
       "speeding     int64\n",
       "alcres      object\n",
       "drugres1    object\n",
       "dtype: object"
      ]
     },
     "execution_count": 42,
     "metadata": {},
     "output_type": "execute_result"
    }
   ],
   "source": [
    "data.dtypes"
   ]
  },
  {
   "cell_type": "markdown",
   "metadata": {},
   "source": [
    "# Convert Dates to Python Datetime Object"
   ]
  },
  {
   "cell_type": "code",
   "execution_count": 31,
   "metadata": {
    "collapsed": false
   },
   "outputs": [
    {
     "data": {
      "text/plain": [
       "datetime.datetime(2015, 9, 2, 16, 17)"
      ]
     },
     "execution_count": 31,
     "metadata": {},
     "output_type": "execute_result"
    }
   ],
   "source": [
    "\n",
    "sample_date = '09022015'\n",
    "sample_time = '1617'\n",
    "\n",
    "def convert_date(date_string, time_string):\n",
    "    \"\"\"Takes time and date as string and converts to datetime object\"\"\"\n",
    "    string = '%s : %s' % (date_string, time_string)\n",
    "    return dt.strptime(string, '%m%d%Y : %H%M')\n",
    "    \n",
    "    \n",
    "convert_date(sample_date, sample_time)"
   ]
  },
  {
   "cell_type": "code",
   "execution_count": 41,
   "metadata": {
    "collapsed": false
   },
   "outputs": [
    {
     "data": {
      "text/html": [
       "<div>\n",
       "<table border=\"1\" class=\"dataframe\">\n",
       "  <thead>\n",
       "    <tr style=\"text-align: right;\">\n",
       "      <th></th>\n",
       "      <th>statenum</th>\n",
       "      <th>casenum</th>\n",
       "      <th>accdate</th>\n",
       "      <th>acctime</th>\n",
       "      <th>speeding</th>\n",
       "      <th>alcres</th>\n",
       "      <th>drugres1</th>\n",
       "    </tr>\n",
       "    <tr>\n",
       "      <th>Obs.</th>\n",
       "      <th></th>\n",
       "      <th></th>\n",
       "      <th></th>\n",
       "      <th></th>\n",
       "      <th></th>\n",
       "      <th></th>\n",
       "      <th></th>\n",
       "    </tr>\n",
       "  </thead>\n",
       "  <tbody>\n",
       "    <tr>\n",
       "      <th>1</th>\n",
       "      <td>6</td>\n",
       "      <td>1397</td>\n",
       "      <td>2015-09-02 16:17:00</td>\n",
       "      <td>1617</td>\n",
       "      <td>1</td>\n",
       "      <td>996</td>\n",
       "      <td>0</td>\n",
       "    </tr>\n",
       "    <tr>\n",
       "      <th>2</th>\n",
       "      <td>6</td>\n",
       "      <td>1734</td>\n",
       "      <td>2015-08-01 08:52:00</td>\n",
       "      <td>0852</td>\n",
       "      <td>0</td>\n",
       "      <td>996</td>\n",
       "      <td>0</td>\n",
       "    </tr>\n",
       "    <tr>\n",
       "      <th>3</th>\n",
       "      <td>27</td>\n",
       "      <td>263</td>\n",
       "      <td>2015-09-21 12:25:00</td>\n",
       "      <td>1225</td>\n",
       "      <td>0</td>\n",
       "      <td>996</td>\n",
       "      <td>0</td>\n",
       "    </tr>\n",
       "    <tr>\n",
       "      <th>4</th>\n",
       "      <td>30</td>\n",
       "      <td>113</td>\n",
       "      <td>2015-08-10 00:21:00</td>\n",
       "      <td>0021</td>\n",
       "      <td>1</td>\n",
       "      <td>262</td>\n",
       "      <td>605</td>\n",
       "    </tr>\n",
       "    <tr>\n",
       "      <th>5</th>\n",
       "      <td>37</td>\n",
       "      <td>47</td>\n",
       "      <td>2015-01-02 19:05:00</td>\n",
       "      <td>1905</td>\n",
       "      <td>0</td>\n",
       "      <td>0</td>\n",
       "      <td>0</td>\n",
       "    </tr>\n",
       "  </tbody>\n",
       "</table>\n",
       "</div>"
      ],
      "text/plain": [
       "      statenum  casenum              accdate acctime  speeding alcres drugres1\n",
       "Obs.                                                                          \n",
       "1            6     1397  2015-09-02 16:17:00    1617         1    996        0\n",
       "2            6     1734  2015-08-01 08:52:00    0852         0    996        0\n",
       "3           27      263  2015-09-21 12:25:00    1225         0    996        0\n",
       "4           30      113  2015-08-10 00:21:00    0021         1    262      605\n",
       "5           37       47  2015-01-02 19:05:00    1905         0      0        0"
      ]
     },
     "execution_count": 41,
     "metadata": {},
     "output_type": "execute_result"
    }
   ],
   "source": [
    "data.head()"
   ]
  },
  {
   "cell_type": "code",
   "execution_count": 34,
   "metadata": {
    "collapsed": false
   },
   "outputs": [
    {
     "data": {
      "text/plain": [
       "54559"
      ]
     },
     "execution_count": 34,
     "metadata": {},
     "output_type": "execute_result"
    }
   ],
   "source": [
    "len(data.index)"
   ]
  },
  {
   "cell_type": "code",
   "execution_count": 35,
   "metadata": {
    "collapsed": false
   },
   "outputs": [
    {
     "data": {
      "text/plain": [
       "331"
      ]
     },
     "execution_count": 35,
     "metadata": {},
     "output_type": "execute_result"
    }
   ],
   "source": [
    "count = 0\n",
    "for item in data['acctime']:\n",
    "    if item == '9999':\n",
    "        count += 1\n",
    "        \n",
    "count"
   ]
  },
  {
   "cell_type": "code",
   "execution_count": 36,
   "metadata": {
    "collapsed": false
   },
   "outputs": [
    {
     "name": "stdout",
     "output_type": "stream",
     "text": [
      "the new length should be: 54228\n"
     ]
    }
   ],
   "source": [
    "print('the new length should be:', 54559 - 331)"
   ]
  },
  {
   "cell_type": "code",
   "execution_count": 37,
   "metadata": {
    "collapsed": true
   },
   "outputs": [],
   "source": [
    "data = data.drop(data[data.acctime == '9999'].index)"
   ]
  },
  {
   "cell_type": "code",
   "execution_count": 38,
   "metadata": {
    "collapsed": false
   },
   "outputs": [
    {
     "data": {
      "text/plain": [
       "54228"
      ]
     },
     "execution_count": 38,
     "metadata": {},
     "output_type": "execute_result"
    }
   ],
   "source": [
    "len(data.index)"
   ]
  },
  {
   "cell_type": "code",
   "execution_count": 39,
   "metadata": {
    "collapsed": false
   },
   "outputs": [],
   "source": [
    "# less than ten of the time data points have a '99' on the end\n",
    "# these are replaced by setting the hour to '00'\n",
    "for row in range(len(data.index)):\n",
    "    time = data.iloc[row, 3]\n",
    "    if int(time[2]) > 5:\n",
    "        time = time[:2] + '00'\n",
    "        data.iloc[row, 3] = time"
   ]
  },
  {
   "cell_type": "code",
   "execution_count": 40,
   "metadata": {
    "collapsed": false
   },
   "outputs": [],
   "source": [
    "# the dates are all the same length\n",
    "# the times are all the same length\n",
    "\n",
    "# the dates are all the same length\n",
    "# the times are all the same length\n",
    "\n",
    "\n",
    "for row in range(len(data.index)):\n",
    "    date = data.iloc[row, 2]\n",
    "    time = data.iloc[row, 3]\n",
    "\n",
    "    datetime = convert_date(date, time)\n",
    "    data.iloc[row, 2] = datetime\n",
    "\n",
    "\n",
    "\n",
    "# for row in range(len(data.index)):\n",
    "#     date = data.iloc[row, 2]\n",
    "#     time = data.iloc[row, 3]\n",
    "#     try:\n",
    "#         datetime = convert_date(date, time)\n",
    "#         data.iloc[row, 2] = datetime\n",
    "#     except ValueError:\n",
    "#         print(date)\n",
    "#         print(time)\n",
    "\n"
   ]
  },
  {
   "cell_type": "markdown",
   "metadata": {},
   "source": [
    "# Write Object to File"
   ]
  },
  {
   "cell_type": "code",
   "execution_count": 43,
   "metadata": {
    "collapsed": false
   },
   "outputs": [],
   "source": [
    "# Write this to a pickle file, creating the main data file. \n",
    "# Can't test to see if the dataframes are exactly the same because of issues with Pandas\n",
    "\n",
    "pk.pickle_object(data, 'data', test=False)"
   ]
  },
  {
   "cell_type": "code",
   "execution_count": 44,
   "metadata": {
    "collapsed": false
   },
   "outputs": [],
   "source": [
    "# Load the pickled dataframe to test\n",
    "new_data = pk.unpickle_object('data')"
   ]
  },
  {
   "cell_type": "code",
   "execution_count": 45,
   "metadata": {
    "collapsed": false
   },
   "outputs": [
    {
     "data": {
      "text/plain": [
       "0"
      ]
     },
     "execution_count": 45,
     "metadata": {},
     "output_type": "execute_result"
    }
   ],
   "source": [
    "# vector operation on dataframes, return array with True in cell if don't match\n",
    "# This cell should return a zero\n",
    "test = new_data.values != data.values\n",
    "test.sum()"
   ]
  }
 ],
 "metadata": {
  "anaconda-cloud": {},
  "kernelspec": {
   "display_name": "Python [conda root]",
   "language": "python",
   "name": "conda-root-py"
  },
  "language_info": {
   "codemirror_mode": {
    "name": "ipython",
    "version": 3
   },
   "file_extension": ".py",
   "mimetype": "text/x-python",
   "name": "python",
   "nbconvert_exporter": "python",
   "pygments_lexer": "ipython3",
   "version": "3.5.2"
  }
 },
 "nbformat": 4,
 "nbformat_minor": 1
}
